{
 "cells": [
  {
   "cell_type": "markdown",
   "id": "2fefbf83",
   "metadata": {},
   "source": [
    "# 4. Numpy\n",
    "\n",
    "## 4.2 넘파이 기초\n",
    "\n",
    "numpy에서 가장 기본이 되는 데이터 타입은 nd(N-dimensional)array. array.\n",
    "ndarray 데이터 타입이 보유한 속성들은 아래와 같습니다.\n",
    "\n",
    "- ndarray.ndim\n",
    "- ndarray.shape\n",
    "- ndarray.size : 원소 개수\n",
    "- ndarray.dtype \n",
    "- ndarray.itemsize : 원소의 바이트 크기\n",
    "- ndarray.data : 배열의 데이터"
   ]
  },
  {
   "cell_type": "code",
   "execution_count": 3,
   "id": "be8b7a3e",
   "metadata": {},
   "outputs": [
    {
     "name": "stdout",
     "output_type": "stream",
     "text": [
      "[[ 0  1  2  3  4]\n",
      " [ 5  6  7  8  9]\n",
      " [10 11 12 13 14]]\n"
     ]
    }
   ],
   "source": [
    "import numpy as np\n",
    "a = np.arange(15).reshape(3,5)\n",
    "print(a)"
   ]
  },
  {
   "cell_type": "code",
   "execution_count": 4,
   "id": "d751ea97",
   "metadata": {},
   "outputs": [
    {
     "data": {
      "text/plain": [
       "(3, 5)"
      ]
     },
     "execution_count": 4,
     "metadata": {},
     "output_type": "execute_result"
    }
   ],
   "source": [
    "a.shape"
   ]
  },
  {
   "cell_type": "code",
   "execution_count": 5,
   "id": "8fedecd9",
   "metadata": {},
   "outputs": [
    {
     "data": {
      "text/plain": [
       "2"
      ]
     },
     "execution_count": 5,
     "metadata": {},
     "output_type": "execute_result"
    }
   ],
   "source": [
    "a.ndim"
   ]
  },
  {
   "cell_type": "code",
   "execution_count": 6,
   "id": "4e973600",
   "metadata": {},
   "outputs": [
    {
     "data": {
      "text/plain": [
       "dtype('int64')"
      ]
     },
     "execution_count": 6,
     "metadata": {},
     "output_type": "execute_result"
    }
   ],
   "source": [
    "a.dtype"
   ]
  },
  {
   "cell_type": "code",
   "execution_count": 7,
   "id": "e3f25d62",
   "metadata": {},
   "outputs": [
    {
     "data": {
      "text/plain": [
       "15"
      ]
     },
     "execution_count": 7,
     "metadata": {},
     "output_type": "execute_result"
    }
   ],
   "source": [
    "a.size"
   ]
  },
  {
   "cell_type": "code",
   "execution_count": 8,
   "id": "5d0c6af2",
   "metadata": {},
   "outputs": [
    {
     "data": {
      "text/plain": [
       "numpy.ndarray"
      ]
     },
     "execution_count": 8,
     "metadata": {},
     "output_type": "execute_result"
    }
   ],
   "source": [
    "type(a)"
   ]
  },
  {
   "cell_type": "markdown",
   "id": "2cd5cd2d",
   "metadata": {},
   "source": [
    "## 4.3 Numpy 인덱싱/연산\n",
    "\n",
    "리스트로 만드는 array에 비해 괄호가 적게 사용되고, 인덱싱하기에 더욱 빠르고 용이합니다"
   ]
  },
  {
   "cell_type": "code",
   "execution_count": 9,
   "id": "f47078b3",
   "metadata": {},
   "outputs": [
    {
     "name": "stdout",
     "output_type": "stream",
     "text": [
      "[[ 0  1  2  3]\n",
      " [ 4  5  6  7]\n",
      " [ 8  9 10 11]\n",
      " [12 13 14 15]\n",
      " [16 17 18 19]]\n"
     ]
    }
   ],
   "source": [
    "b = np.arange(20).reshape(5,4)\n",
    "print(b)"
   ]
  },
  {
   "cell_type": "code",
   "execution_count": 10,
   "id": "e8e25793",
   "metadata": {},
   "outputs": [
    {
     "data": {
      "text/plain": [
       "np.int64(11)"
      ]
     },
     "execution_count": 10,
     "metadata": {},
     "output_type": "execute_result"
    }
   ],
   "source": [
    "b[2,3]"
   ]
  },
  {
   "cell_type": "code",
   "execution_count": 11,
   "id": "0776ca89",
   "metadata": {},
   "outputs": [
    {
     "data": {
      "text/plain": [
       "array([ 1,  5,  9, 13, 17])"
      ]
     },
     "execution_count": 11,
     "metadata": {},
     "output_type": "execute_result"
    }
   ],
   "source": [
    "b[0:5,1]"
   ]
  },
  {
   "cell_type": "code",
   "execution_count": 12,
   "id": "2ab2dcd2",
   "metadata": {},
   "outputs": [
    {
     "data": {
      "text/plain": [
       "array([ 1,  5,  9, 13, 17])"
      ]
     },
     "execution_count": 12,
     "metadata": {},
     "output_type": "execute_result"
    }
   ],
   "source": [
    "b[:,1]"
   ]
  },
  {
   "cell_type": "code",
   "execution_count": 13,
   "id": "4f12b731",
   "metadata": {},
   "outputs": [
    {
     "data": {
      "text/plain": [
       "array([[ 4,  5,  6,  7],\n",
       "       [ 8,  9, 10, 11]])"
      ]
     },
     "execution_count": 13,
     "metadata": {},
     "output_type": "execute_result"
    }
   ],
   "source": [
    "b[1:3,:]"
   ]
  },
  {
   "cell_type": "markdown",
   "id": "edfff9bf",
   "metadata": {},
   "source": [
    "조건문을 통해서도 인식이 가능합니다.\n",
    "-> Logic -> Boolean array 형성 후 적용"
   ]
  },
  {
   "cell_type": "code",
   "execution_count": 14,
   "id": "c3172241",
   "metadata": {},
   "outputs": [
    {
     "name": "stdout",
     "output_type": "stream",
     "text": [
      "[[False False False False False]\n",
      " [ True  True  True  True  True]\n",
      " [ True  True  True  True  True]]\n",
      "[ 5  6  7  8  9 10 11 12 13 14]\n"
     ]
    }
   ],
   "source": [
    "c = a > 4\n",
    "print(c)\n",
    "print(a[c])"
   ]
  },
  {
   "cell_type": "markdown",
   "id": "72b1e776",
   "metadata": {},
   "source": [
    "사칙연산도 가능합니다. 크기 같은 두 개의 array 간 사치연산을 실시하면 element-wise 연산이 실행됩니다. 또한 제곱 연산이나 기타 연산도 element-wise하게 적용됩니다."
   ]
  },
  {
   "cell_type": "code",
   "execution_count": 15,
   "id": "018e9231",
   "metadata": {},
   "outputs": [
    {
     "name": "stdout",
     "output_type": "stream",
     "text": [
      "[20 29 38 47]\n",
      "[0 1 4 9]\n",
      "[ 0 10 20 30]\n"
     ]
    }
   ],
   "source": [
    "a = np.array([20,30,40,50])\n",
    "b = np.arange(4)\n",
    "c = a - b\n",
    "print(c)\n",
    "\n",
    "print(b**2)\n",
    "\n",
    "print(b*10)"
   ]
  },
  {
   "cell_type": "markdown",
   "id": "efe90253",
   "metadata": {},
   "source": [
    "array 간 * 연산을 진행하면, element-wst한 곱셈이 실행됩니다. 행렬곱은 dot()함수를 사용해야 합니다."
   ]
  },
  {
   "cell_type": "code",
   "execution_count": 16,
   "id": "bab7b090",
   "metadata": {},
   "outputs": [
    {
     "name": "stdout",
     "output_type": "stream",
     "text": [
      "[[2 0]\n",
      " [0 4]]\n",
      "[[5 4]\n",
      " [3 4]]\n"
     ]
    }
   ],
   "source": [
    "A = np.array([[1,1],\n",
    "             [0,1]])\n",
    "B = np.array([[2,0],\n",
    "              [3,4]])\n",
    "print(A * B)\n",
    "print(np.dot(A,B))"
   ]
  },
  {
   "cell_type": "markdown",
   "id": "2a00670e",
   "metadata": {},
   "source": [
    "4.4 Numpy 함수"
   ]
  },
  {
   "cell_type": "code",
   "execution_count": 21,
   "id": "c2a6333a",
   "metadata": {},
   "outputs": [
    {
     "name": "stdout",
     "output_type": "stream",
     "text": [
      "[[0.51182162 0.9504637  0.14415961]\n",
      " [0.94864945 0.31183145 0.42332645]]\n",
      "a.sum : 3.290252281866131\n",
      "a.min : 0.14415961271963373\n",
      "a.max : 0.9504636963259353\n"
     ]
    }
   ],
   "source": [
    "rg = np.random.default_rng(1)\n",
    "a = rg.random((2,3))\n",
    "print(a)\n",
    "\n",
    "print(f'a.sum : {a.sum()}')\n",
    "print(f'a.min : {a.min()}')\n",
    "print(f'a.max : {a.max()}')"
   ]
  },
  {
   "cell_type": "code",
   "execution_count": 22,
   "id": "43271d80",
   "metadata": {},
   "outputs": [
    {
     "name": "stdout",
     "output_type": "stream",
     "text": [
      "[[ 0  1  2  3]\n",
      " [ 4  5  6  7]\n",
      " [ 8  9 10 11]]\n"
     ]
    }
   ],
   "source": [
    "b = np.arange(12).reshape(3,4)\n",
    "\n",
    "print(b)"
   ]
  },
  {
   "cell_type": "code",
   "execution_count": 23,
   "id": "9bbd6368",
   "metadata": {},
   "outputs": [
    {
     "data": {
      "text/plain": [
       "array([12, 15, 18, 21])"
      ]
     },
     "execution_count": 23,
     "metadata": {},
     "output_type": "execute_result"
    }
   ],
   "source": [
    "b.sum(axis = 0)"
   ]
  },
  {
   "cell_type": "code",
   "execution_count": 24,
   "id": "9da348d3",
   "metadata": {},
   "outputs": [
    {
     "data": {
      "text/plain": [
       "array([0, 4, 8])"
      ]
     },
     "execution_count": 24,
     "metadata": {},
     "output_type": "execute_result"
    }
   ],
   "source": [
    "b.min(axis = 1)"
   ]
  },
  {
   "cell_type": "code",
   "execution_count": 25,
   "id": "2745b7e7",
   "metadata": {},
   "outputs": [
    {
     "data": {
      "text/plain": [
       "array([[ 0,  1,  3,  6],\n",
       "       [ 4,  9, 15, 22],\n",
       "       [ 8, 17, 27, 38]])"
      ]
     },
     "execution_count": 25,
     "metadata": {},
     "output_type": "execute_result"
    }
   ],
   "source": [
    "b.cumsum(axis = 1)"
   ]
  },
  {
   "cell_type": "markdown",
   "id": "f5f3ed59",
   "metadata": {},
   "source": [
    "그 외에 numpy의 주요함수들 요약\n",
    "\n",
    "- exp, log, expm1, log1p : 지수함수 또는 로그함수 사용해 숫자 변환\n",
    "- sqrt, square, abs : 루트, 제곱, 절대값 산출\n",
    "- mean, median, var, std : 평균, 중앙값, 분산, 표준편차 산출\n",
    "- sin, cos\n",
    "- corrcoef\n",
    "- concatenate, vstack, hstack\n",
    "- reshape"
   ]
  },
  {
   "cell_type": "markdown",
   "id": "962ce68b",
   "metadata": {},
   "source": [
    "선형회귀, 로지스틱 회귀 부분은 생략"
   ]
  }
 ],
 "metadata": {
  "kernelspec": {
   "display_name": "venv",
   "language": "python",
   "name": "python3"
  },
  "language_info": {
   "codemirror_mode": {
    "name": "ipython",
    "version": 3
   },
   "file_extension": ".py",
   "mimetype": "text/x-python",
   "name": "python",
   "nbconvert_exporter": "python",
   "pygments_lexer": "ipython3",
   "version": "3.11.4"
  }
 },
 "nbformat": 4,
 "nbformat_minor": 5
}
