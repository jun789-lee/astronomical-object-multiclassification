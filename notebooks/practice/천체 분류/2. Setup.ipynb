{
 "cells": [
  {
   "cell_type": "markdown",
   "id": "08b20975",
   "metadata": {},
   "source": [
    "# 2. Setup\n",
    "\n",
    "데이터 과학 전반적으로 여러 가지 환경 설정 하는 것이 필요하며 ,대회 참가시에는 더군다나 빨리 데이터를 분석해 인사이트를 뽑아내고 모델을 구축하는 것이 중요하므로, 어떤 컴퓨터에서나 빠르게 본인의 환경 구축을 하는 것이 상당히 중요합니다. 따라서, 2장에서는 데이터 과학 대회 참여를 위한 환경 설정에 대해 알아보겠습니다.\n",
    "\n",
    "Key Word - Github 설정 방법, 파이썬 환경 설정 방법, 그리고 터미널 사용 방법 등"
   ]
  },
  {
   "cell_type": "markdown",
   "id": "b1f51dcf",
   "metadata": {},
   "source": [
    "## 2.1 Github 소개\n",
    "\n",
    "### 2.1.1 Github 용어\n",
    "\n",
    "Repository - 코드 저장소를 의미합니다.\n",
    "Branch - 각각 다른 코드 버전의 이름을 나타내는 용어입니다\n",
    "Master/main - 가장 기본이 되는 디폴트 브랜치 이름을 뜻합니다. 과거에는 마스터라고 불렸는데, 최근에는 메인으로 이름을 변경했습니다. \n",
    "Commit - 코드를 수정 후, 수정본을 제출하는 과정을 칭합니다. 커밋한 코드를 다른 사람에게 검토를 신청하는 과정을 Pull Request 또는 PR이라고 부릅니다. Pull Request한 코드 변경 사항이 검토자로부터 승인이 난 후, 메인 브랜치에 반영을 하는 과정을 Merge라고 합니다."
   ]
  },
  {
   "cell_type": "markdown",
   "id": "58aecc78",
   "metadata": {
    "vscode": {
     "languageId": "plaintext"
    }
   },
   "source": [
    "### 2.1.2\n",
    "\n",
    "Note\n",
    "README - 리포지토리에 관한 주요사항 명시\n",
    ".gitignore - git 추적을 하지 않을 파일 명시\n",
    "license - 리포지토리 사용에 대한 라이센스"
   ]
  },
  {
   "cell_type": "markdown",
   "id": "dc8121d4",
   "metadata": {},
   "source": [
    "### 2.1.3 새브랜치 생성\n",
    "\n",
    "새롭게 생성한 리포지토리에 들어가면 그림 2-4에 나와 있듯이, 브랜치 마스터라는 버튼이 있습니다. 해당 버튼을 클릭하면, 새로운 브랜치 명을 입력할 수 있는 창이 뜹니다.\n",
    "\n",
    "일반적으로 코드를 수정할 때는 마스터/메인 브랜치에서 작업하지 않고, 새로운 브랜치를 만든 후에 해당 브랜치에서 코드를 변경하고 커밋 후 PR을 통해 검토를 받고, 승인이 났을 때 변경사항을 마스터/메인 브랜치로 머지하는 과정을 거치게 됩니다. 이렇게 하는 이유는 여러 명이서 같은 코드를 동시에 수정할 시에 충돌이 발생할 수 있기에, 충돌을 방지하기 위해서 위와 같은 방법을 사용합니다."
   ]
  },
  {
   "cell_type": "markdown",
   "id": "e6ad9ba7",
   "metadata": {},
   "source": [
    "### 2.1.4 코드 변경 후 커밋\n",
    "\n",
    "앞서 생성한 readme-edits라는 브랜치에서 README.md 파일을 수정해보고, 수정사항을 커밋해보겠습니다."
   ]
  },
  {
   "cell_type": "markdown",
   "id": "75269eec",
   "metadata": {},
   "source": []
  },
  {
   "cell_type": "markdown",
   "id": "d72d0b44",
   "metadata": {},
   "source": []
  },
  {
   "cell_type": "markdown",
   "id": "82403e70",
   "metadata": {},
   "source": []
  },
  {
   "cell_type": "markdown",
   "id": "3644da02",
   "metadata": {},
   "source": []
  },
  {
   "cell_type": "markdown",
   "id": "bb78c80e",
   "metadata": {},
   "source": []
  },
  {
   "cell_type": "markdown",
   "id": "13f6895a",
   "metadata": {},
   "source": []
  }
 ],
 "metadata": {
  "kernelspec": {
   "display_name": "venv",
   "language": "python",
   "name": "python3"
  },
  "language_info": {
   "name": "python",
   "version": "3.11.4"
  }
 },
 "nbformat": 4,
 "nbformat_minor": 5
}
