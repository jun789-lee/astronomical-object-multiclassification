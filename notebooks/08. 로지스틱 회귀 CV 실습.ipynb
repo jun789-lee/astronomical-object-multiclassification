{
 "cells": [
  {
   "cell_type": "code",
   "execution_count": 2,
   "id": "449ca212",
   "metadata": {},
   "outputs": [],
   "source": [
    "%matplotlib inline\n",
    "\n",
    "from matplotlib import pyplot as plt\n",
    "from matplotlib import rcParams\n",
    "from pathlib import Path\n",
    "import numpy as np\n",
    "import pandas as pd\n",
    "import seaborn as sns\n",
    "from sklearn.linear_model import LogisticRegression\n",
    "from sklearn.metrics import accuracy_score\n",
    "from sklearn.model_selection import StratifiedKFold\n",
    "from sklearn.preprocessing import StandardScaler, PolynomialFeatures\n",
    "import warnings\n",
    "\n",
    "rcParams['figure.figsize'] = (16,8)\n",
    "plt.style.use('fivethirtyeight')\n",
    "pd.set_option('display.max_columns', 100)\n",
    "pd.set_option('display.precision', 4)\n",
    "warnings.simplefilter('ignore')"
   ]
  },
  {
   "cell_type": "code",
   "execution_count": 4,
   "id": "61364541",
   "metadata": {},
   "outputs": [],
   "source": [
    "# data load\n",
    "\n",
    "# Load the data\n",
    "\n",
    "data_dir = Path(r'C:\\Users\\789\\Desktop\\github_local\\Machine Learning\\machine-learning-projects\\data\\astronomical-object')\n",
    "feature_dir = Path(r'C:\\Users\\789\\Desktop\\github_local\\Machine Learning\\machine-learning-projects\\build\\feature')\n",
    "sub_dir = Path(r'C:\\Users\\789\\Desktop\\github_local\\Machine Learning\\machine-learning-projects\\build\\sub')\n",
    "val_dir = Path(r'C:\\Users\\789\\Desktop\\github_local\\Machine Learning\\machine-learning-projects\\build\\val')\n",
    "tst_dir = Path(r'C:\\Users\\789\\Desktop\\github_local\\Machine Learning\\machine-learning-projects\\build\\tst')\n",
    "\n",
    "trn_file = data_dir / 'train.csv'\n",
    "tst_file = data_dir / 'test.csv'\n",
    "sample_file = sub_dir / 'sample_submission.csv'\n",
    "\n",
    "target_col = 'type'\n",
    "seed = 42\n",
    "\n",
    "target_col = 'type'\n",
    "n_fold = 5\n",
    "n_class = 19\n",
    "seed = 42"
   ]
  },
  {
   "cell_type": "code",
   "execution_count": 5,
   "id": "77aa122f",
   "metadata": {},
   "outputs": [],
   "source": [
    "algo_name = 'lrcv' #logistic regression cv\n",
    "#KFold로 CV 하는 경우는 2가지, 성능 평가 or stacking\n",
    "#KFold로 학습한 모델 5개를 그대로 보관하고, 각각 예측 후, 평균 or voting \n",
    "#soft voting, hard voting -> 이 경우는 앙상블임.\n",
    "#이런 걸 여러 개 만들어서 쌓으면 stacking\n",
    "\n",
    "feature_name = 'polyfeature'\n",
    "model_name = f'{algo_name}_{feature_name}' #lrcv_Polyfeature\n",
    "\n",
    "feature_file = feature_dir / f'{feature_name}.csv' # 나중에 to_csv 위치\n",
    "p_val_file = val_dir / f'{model_name}.val.csv' # cv 예측값 나중에 앙상블 때 사용\n",
    "p_tst_file = tst_dir / f'{model_name}.tst.csv' # 이건 뭐지\n",
    "sub_file = sub_dir / f'{model_name}.csv' # 테스트셋으로 예측 후, 서브미션 파일에 저장"
   ]
  },
  {
   "cell_type": "markdown",
   "id": "322684c8",
   "metadata": {},
   "source": [
    "## Polynomial Feature 생성"
   ]
  },
  {
   "cell_type": "code",
   "execution_count": 8,
   "id": "3b72b7bf",
   "metadata": {},
   "outputs": [
    {
     "name": "stdout",
     "output_type": "stream",
     "text": [
      "(210000, 21)\n"
     ]
    },
    {
     "data": {
      "text/html": [
       "<div>\n",
       "<style scoped>\n",
       "    .dataframe tbody tr th:only-of-type {\n",
       "        vertical-align: middle;\n",
       "    }\n",
       "\n",
       "    .dataframe tbody tr th {\n",
       "        vertical-align: top;\n",
       "    }\n",
       "\n",
       "    .dataframe thead th {\n",
       "        text-align: right;\n",
       "    }\n",
       "</style>\n",
       "<table border=\"1\" class=\"dataframe\">\n",
       "  <thead>\n",
       "    <tr style=\"text-align: right;\">\n",
       "      <th></th>\n",
       "      <th>type</th>\n",
       "      <th>fiberID</th>\n",
       "      <th>psfMag_u</th>\n",
       "      <th>psfMag_g</th>\n",
       "      <th>psfMag_r</th>\n",
       "      <th>psfMag_i</th>\n",
       "      <th>psfMag_z</th>\n",
       "      <th>fiberMag_g</th>\n",
       "      <th>fiberMag_r</th>\n",
       "      <th>fiberMag_i</th>\n",
       "      <th>fiberMag_z</th>\n",
       "      <th>petroMag_u</th>\n",
       "      <th>petroMag_g</th>\n",
       "      <th>petroMag_r</th>\n",
       "      <th>petroMag_i</th>\n",
       "      <th>petroMag_z</th>\n",
       "      <th>modelMag_u</th>\n",
       "      <th>modelMag_g</th>\n",
       "      <th>modelMag_r</th>\n",
       "      <th>modelMag_i</th>\n",
       "      <th>modelMag_z</th>\n",
       "    </tr>\n",
       "    <tr>\n",
       "      <th>id</th>\n",
       "      <th></th>\n",
       "      <th></th>\n",
       "      <th></th>\n",
       "      <th></th>\n",
       "      <th></th>\n",
       "      <th></th>\n",
       "      <th></th>\n",
       "      <th></th>\n",
       "      <th></th>\n",
       "      <th></th>\n",
       "      <th></th>\n",
       "      <th></th>\n",
       "      <th></th>\n",
       "      <th></th>\n",
       "      <th></th>\n",
       "      <th></th>\n",
       "      <th></th>\n",
       "      <th></th>\n",
       "      <th></th>\n",
       "      <th></th>\n",
       "      <th></th>\n",
       "    </tr>\n",
       "  </thead>\n",
       "  <tbody>\n",
       "    <tr>\n",
       "      <th>0</th>\n",
       "      <td>QSO</td>\n",
       "      <td>6.4003</td>\n",
       "      <td>23.1982</td>\n",
       "      <td>21.4320</td>\n",
       "      <td>21.3141</td>\n",
       "      <td>21.1766</td>\n",
       "      <td>21.1714</td>\n",
       "      <td>21.6445</td>\n",
       "      <td>21.6576</td>\n",
       "      <td>21.3877</td>\n",
       "      <td>21.5728</td>\n",
       "      <td>22.5043</td>\n",
       "      <td>21.4316</td>\n",
       "      <td>21.4783</td>\n",
       "      <td>21.1454</td>\n",
       "      <td>20.4224</td>\n",
       "      <td>22.7492</td>\n",
       "      <td>21.4655</td>\n",
       "      <td>21.3642</td>\n",
       "      <td>21.0206</td>\n",
       "      <td>21.1473</td>\n",
       "    </tr>\n",
       "    <tr>\n",
       "      <th>1</th>\n",
       "      <td>QSO</td>\n",
       "      <td>6.6708</td>\n",
       "      <td>21.4314</td>\n",
       "      <td>20.7081</td>\n",
       "      <td>20.6789</td>\n",
       "      <td>20.7034</td>\n",
       "      <td>20.4732</td>\n",
       "      <td>21.0298</td>\n",
       "      <td>20.9671</td>\n",
       "      <td>20.9377</td>\n",
       "      <td>21.0636</td>\n",
       "      <td>21.3607</td>\n",
       "      <td>20.7790</td>\n",
       "      <td>20.8897</td>\n",
       "      <td>20.6398</td>\n",
       "      <td>20.6467</td>\n",
       "      <td>21.4930</td>\n",
       "      <td>20.7585</td>\n",
       "      <td>20.7539</td>\n",
       "      <td>20.6934</td>\n",
       "      <td>20.5123</td>\n",
       "    </tr>\n",
       "    <tr>\n",
       "      <th>2</th>\n",
       "      <td>QSO</td>\n",
       "      <td>6.0591</td>\n",
       "      <td>17.8515</td>\n",
       "      <td>16.7279</td>\n",
       "      <td>16.6797</td>\n",
       "      <td>16.6946</td>\n",
       "      <td>16.6418</td>\n",
       "      <td>17.0331</td>\n",
       "      <td>16.9997</td>\n",
       "      <td>17.0960</td>\n",
       "      <td>17.0764</td>\n",
       "      <td>17.8673</td>\n",
       "      <td>16.7388</td>\n",
       "      <td>16.6889</td>\n",
       "      <td>16.7442</td>\n",
       "      <td>16.8080</td>\n",
       "      <td>17.8181</td>\n",
       "      <td>16.6974</td>\n",
       "      <td>16.6412</td>\n",
       "      <td>16.6602</td>\n",
       "      <td>16.6889</td>\n",
       "    </tr>\n",
       "    <tr>\n",
       "      <th>3</th>\n",
       "      <td>QSO</td>\n",
       "      <td>6.7627</td>\n",
       "      <td>20.7899</td>\n",
       "      <td>20.0404</td>\n",
       "      <td>19.9269</td>\n",
       "      <td>19.8438</td>\n",
       "      <td>19.4633</td>\n",
       "      <td>20.3172</td>\n",
       "      <td>20.2179</td>\n",
       "      <td>20.0739</td>\n",
       "      <td>19.7945</td>\n",
       "      <td>20.4339</td>\n",
       "      <td>19.9937</td>\n",
       "      <td>19.9855</td>\n",
       "      <td>19.7509</td>\n",
       "      <td>19.4551</td>\n",
       "      <td>20.7707</td>\n",
       "      <td>20.0017</td>\n",
       "      <td>19.8898</td>\n",
       "      <td>19.7581</td>\n",
       "      <td>19.5529</td>\n",
       "    </tr>\n",
       "    <tr>\n",
       "      <th>4</th>\n",
       "      <td>STAR_RED_DWARF</td>\n",
       "      <td>6.4184</td>\n",
       "      <td>26.4550</td>\n",
       "      <td>23.0588</td>\n",
       "      <td>21.4714</td>\n",
       "      <td>19.5050</td>\n",
       "      <td>18.3891</td>\n",
       "      <td>23.6291</td>\n",
       "      <td>21.7428</td>\n",
       "      <td>19.8617</td>\n",
       "      <td>18.8104</td>\n",
       "      <td>25.8592</td>\n",
       "      <td>22.4269</td>\n",
       "      <td>21.6736</td>\n",
       "      <td>19.6100</td>\n",
       "      <td>18.3761</td>\n",
       "      <td>24.8771</td>\n",
       "      <td>23.1480</td>\n",
       "      <td>21.4753</td>\n",
       "      <td>19.4873</td>\n",
       "      <td>18.3757</td>\n",
       "    </tr>\n",
       "  </tbody>\n",
       "</table>\n",
       "</div>"
      ],
      "text/plain": [
       "              type  fiberID  psfMag_u  psfMag_g  psfMag_r  psfMag_i  psfMag_z  \\\n",
       "id                                                                              \n",
       "0              QSO   6.4003   23.1982   21.4320   21.3141   21.1766   21.1714   \n",
       "1              QSO   6.6708   21.4314   20.7081   20.6789   20.7034   20.4732   \n",
       "2              QSO   6.0591   17.8515   16.7279   16.6797   16.6946   16.6418   \n",
       "3              QSO   6.7627   20.7899   20.0404   19.9269   19.8438   19.4633   \n",
       "4   STAR_RED_DWARF   6.4184   26.4550   23.0588   21.4714   19.5050   18.3891   \n",
       "\n",
       "    fiberMag_g  fiberMag_r  fiberMag_i  fiberMag_z  petroMag_u  petroMag_g  \\\n",
       "id                                                                           \n",
       "0      21.6445     21.6576     21.3877     21.5728     22.5043     21.4316   \n",
       "1      21.0298     20.9671     20.9377     21.0636     21.3607     20.7790   \n",
       "2      17.0331     16.9997     17.0960     17.0764     17.8673     16.7388   \n",
       "3      20.3172     20.2179     20.0739     19.7945     20.4339     19.9937   \n",
       "4      23.6291     21.7428     19.8617     18.8104     25.8592     22.4269   \n",
       "\n",
       "    petroMag_r  petroMag_i  petroMag_z  modelMag_u  modelMag_g  modelMag_r  \\\n",
       "id                                                                           \n",
       "0      21.4783     21.1454     20.4224     22.7492     21.4655     21.3642   \n",
       "1      20.8897     20.6398     20.6467     21.4930     20.7585     20.7539   \n",
       "2      16.6889     16.7442     16.8080     17.8181     16.6974     16.6412   \n",
       "3      19.9855     19.7509     19.4551     20.7707     20.0017     19.8898   \n",
       "4      21.6736     19.6100     18.3761     24.8771     23.1480     21.4753   \n",
       "\n",
       "    modelMag_i  modelMag_z  \n",
       "id                          \n",
       "0      21.0206     21.1473  \n",
       "1      20.6934     20.5123  \n",
       "2      16.6602     16.6889  \n",
       "3      19.7581     19.5529  \n",
       "4      19.4873     18.3757  "
      ]
     },
     "execution_count": 8,
     "metadata": {},
     "output_type": "execute_result"
    }
   ],
   "source": [
    "df = pd.read_csv(feature_dir / 'feature.csv', index_col = 0)\n",
    "print(df.shape)\n",
    "df.head() # feature engineer한 후, train set, data set 합쳐놓은 것"
   ]
  },
  {
   "cell_type": "code",
   "execution_count": null,
   "id": "b02d0c5a",
   "metadata": {},
   "outputs": [
    {
     "data": {
      "text/plain": [
       "'polyfeature'"
      ]
     },
     "execution_count": 17,
     "metadata": {},
     "output_type": "execute_result"
    }
   ],
   "source": [
    "scaler = StandardScaler()\n",
    "poly = PolynomialFeatures(2) # PolynomialFeatures 객체 안에 인자 입력 후, 생성\n",
    "\n",
    "X = poly.fit_transform(scaler.fit_transform(df.drop(target_col, axis = 1)))\n",
    "# X에는 무엇이 들어가는가?\n",
    "# target_col을 제외한 독립변수는 (n_samples, n_polynomial_features)의 ndarray가 반환됨\n",
    "\n",
    "# scaler.fit_transform하면 df가 numpy.ndarray으로 바뀜. poly.fit_trasnform() 적용하면 ndarray\n",
    "# 따라서 X.columns를 통해 피쳐들의 이름 값을 얻어낸는 건 불가능.\n",
    "# get_feature_names_out으로 df.columns들의 조합들로 피쳐변환 한 조합들의 이름들을 반환해줌\n",
    "feature_names = poly.get_feature_names_out(df.drop('type', axis = 1).columns)"
   ]
  },
  {
   "cell_type": "code",
   "execution_count": 18,
   "id": "a3023fa3",
   "metadata": {},
   "outputs": [
    {
     "data": {
      "text/plain": [
       "array(['1', 'fiberID', 'psfMag_u', 'psfMag_g', 'psfMag_r', 'psfMag_i',\n",
       "       'psfMag_z', 'fiberMag_g', 'fiberMag_r', 'fiberMag_i', 'fiberMag_z',\n",
       "       'petroMag_u', 'petroMag_g', 'petroMag_r', 'petroMag_i',\n",
       "       'petroMag_z', 'modelMag_u', 'modelMag_g', 'modelMag_r',\n",
       "       'modelMag_i', 'modelMag_z', 'fiberID^2', 'fiberID psfMag_u',\n",
       "       'fiberID psfMag_g', 'fiberID psfMag_r', 'fiberID psfMag_i',\n",
       "       'fiberID psfMag_z', 'fiberID fiberMag_g', 'fiberID fiberMag_r',\n",
       "       'fiberID fiberMag_i', 'fiberID fiberMag_z', 'fiberID petroMag_u',\n",
       "       'fiberID petroMag_g', 'fiberID petroMag_r', 'fiberID petroMag_i',\n",
       "       'fiberID petroMag_z', 'fiberID modelMag_u', 'fiberID modelMag_g',\n",
       "       'fiberID modelMag_r', 'fiberID modelMag_i', 'fiberID modelMag_z',\n",
       "       'psfMag_u^2', 'psfMag_u psfMag_g', 'psfMag_u psfMag_r',\n",
       "       'psfMag_u psfMag_i', 'psfMag_u psfMag_z', 'psfMag_u fiberMag_g',\n",
       "       'psfMag_u fiberMag_r', 'psfMag_u fiberMag_i',\n",
       "       'psfMag_u fiberMag_z', 'psfMag_u petroMag_u',\n",
       "       'psfMag_u petroMag_g', 'psfMag_u petroMag_r',\n",
       "       'psfMag_u petroMag_i', 'psfMag_u petroMag_z',\n",
       "       'psfMag_u modelMag_u', 'psfMag_u modelMag_g',\n",
       "       'psfMag_u modelMag_r', 'psfMag_u modelMag_i',\n",
       "       'psfMag_u modelMag_z', 'psfMag_g^2', 'psfMag_g psfMag_r',\n",
       "       'psfMag_g psfMag_i', 'psfMag_g psfMag_z', 'psfMag_g fiberMag_g',\n",
       "       'psfMag_g fiberMag_r', 'psfMag_g fiberMag_i',\n",
       "       'psfMag_g fiberMag_z', 'psfMag_g petroMag_u',\n",
       "       'psfMag_g petroMag_g', 'psfMag_g petroMag_r',\n",
       "       'psfMag_g petroMag_i', 'psfMag_g petroMag_z',\n",
       "       'psfMag_g modelMag_u', 'psfMag_g modelMag_g',\n",
       "       'psfMag_g modelMag_r', 'psfMag_g modelMag_i',\n",
       "       'psfMag_g modelMag_z', 'psfMag_r^2', 'psfMag_r psfMag_i',\n",
       "       'psfMag_r psfMag_z', 'psfMag_r fiberMag_g', 'psfMag_r fiberMag_r',\n",
       "       'psfMag_r fiberMag_i', 'psfMag_r fiberMag_z',\n",
       "       'psfMag_r petroMag_u', 'psfMag_r petroMag_g',\n",
       "       'psfMag_r petroMag_r', 'psfMag_r petroMag_i',\n",
       "       'psfMag_r petroMag_z', 'psfMag_r modelMag_u',\n",
       "       'psfMag_r modelMag_g', 'psfMag_r modelMag_r',\n",
       "       'psfMag_r modelMag_i', 'psfMag_r modelMag_z', 'psfMag_i^2',\n",
       "       'psfMag_i psfMag_z', 'psfMag_i fiberMag_g', 'psfMag_i fiberMag_r',\n",
       "       'psfMag_i fiberMag_i', 'psfMag_i fiberMag_z',\n",
       "       'psfMag_i petroMag_u', 'psfMag_i petroMag_g',\n",
       "       'psfMag_i petroMag_r', 'psfMag_i petroMag_i',\n",
       "       'psfMag_i petroMag_z', 'psfMag_i modelMag_u',\n",
       "       'psfMag_i modelMag_g', 'psfMag_i modelMag_r',\n",
       "       'psfMag_i modelMag_i', 'psfMag_i modelMag_z', 'psfMag_z^2',\n",
       "       'psfMag_z fiberMag_g', 'psfMag_z fiberMag_r',\n",
       "       'psfMag_z fiberMag_i', 'psfMag_z fiberMag_z',\n",
       "       'psfMag_z petroMag_u', 'psfMag_z petroMag_g',\n",
       "       'psfMag_z petroMag_r', 'psfMag_z petroMag_i',\n",
       "       'psfMag_z petroMag_z', 'psfMag_z modelMag_u',\n",
       "       'psfMag_z modelMag_g', 'psfMag_z modelMag_r',\n",
       "       'psfMag_z modelMag_i', 'psfMag_z modelMag_z', 'fiberMag_g^2',\n",
       "       'fiberMag_g fiberMag_r', 'fiberMag_g fiberMag_i',\n",
       "       'fiberMag_g fiberMag_z', 'fiberMag_g petroMag_u',\n",
       "       'fiberMag_g petroMag_g', 'fiberMag_g petroMag_r',\n",
       "       'fiberMag_g petroMag_i', 'fiberMag_g petroMag_z',\n",
       "       'fiberMag_g modelMag_u', 'fiberMag_g modelMag_g',\n",
       "       'fiberMag_g modelMag_r', 'fiberMag_g modelMag_i',\n",
       "       'fiberMag_g modelMag_z', 'fiberMag_r^2', 'fiberMag_r fiberMag_i',\n",
       "       'fiberMag_r fiberMag_z', 'fiberMag_r petroMag_u',\n",
       "       'fiberMag_r petroMag_g', 'fiberMag_r petroMag_r',\n",
       "       'fiberMag_r petroMag_i', 'fiberMag_r petroMag_z',\n",
       "       'fiberMag_r modelMag_u', 'fiberMag_r modelMag_g',\n",
       "       'fiberMag_r modelMag_r', 'fiberMag_r modelMag_i',\n",
       "       'fiberMag_r modelMag_z', 'fiberMag_i^2', 'fiberMag_i fiberMag_z',\n",
       "       'fiberMag_i petroMag_u', 'fiberMag_i petroMag_g',\n",
       "       'fiberMag_i petroMag_r', 'fiberMag_i petroMag_i',\n",
       "       'fiberMag_i petroMag_z', 'fiberMag_i modelMag_u',\n",
       "       'fiberMag_i modelMag_g', 'fiberMag_i modelMag_r',\n",
       "       'fiberMag_i modelMag_i', 'fiberMag_i modelMag_z', 'fiberMag_z^2',\n",
       "       'fiberMag_z petroMag_u', 'fiberMag_z petroMag_g',\n",
       "       'fiberMag_z petroMag_r', 'fiberMag_z petroMag_i',\n",
       "       'fiberMag_z petroMag_z', 'fiberMag_z modelMag_u',\n",
       "       'fiberMag_z modelMag_g', 'fiberMag_z modelMag_r',\n",
       "       'fiberMag_z modelMag_i', 'fiberMag_z modelMag_z', 'petroMag_u^2',\n",
       "       'petroMag_u petroMag_g', 'petroMag_u petroMag_r',\n",
       "       'petroMag_u petroMag_i', 'petroMag_u petroMag_z',\n",
       "       'petroMag_u modelMag_u', 'petroMag_u modelMag_g',\n",
       "       'petroMag_u modelMag_r', 'petroMag_u modelMag_i',\n",
       "       'petroMag_u modelMag_z', 'petroMag_g^2', 'petroMag_g petroMag_r',\n",
       "       'petroMag_g petroMag_i', 'petroMag_g petroMag_z',\n",
       "       'petroMag_g modelMag_u', 'petroMag_g modelMag_g',\n",
       "       'petroMag_g modelMag_r', 'petroMag_g modelMag_i',\n",
       "       'petroMag_g modelMag_z', 'petroMag_r^2', 'petroMag_r petroMag_i',\n",
       "       'petroMag_r petroMag_z', 'petroMag_r modelMag_u',\n",
       "       'petroMag_r modelMag_g', 'petroMag_r modelMag_r',\n",
       "       'petroMag_r modelMag_i', 'petroMag_r modelMag_z', 'petroMag_i^2',\n",
       "       'petroMag_i petroMag_z', 'petroMag_i modelMag_u',\n",
       "       'petroMag_i modelMag_g', 'petroMag_i modelMag_r',\n",
       "       'petroMag_i modelMag_i', 'petroMag_i modelMag_z', 'petroMag_z^2',\n",
       "       'petroMag_z modelMag_u', 'petroMag_z modelMag_g',\n",
       "       'petroMag_z modelMag_r', 'petroMag_z modelMag_i',\n",
       "       'petroMag_z modelMag_z', 'modelMag_u^2', 'modelMag_u modelMag_g',\n",
       "       'modelMag_u modelMag_r', 'modelMag_u modelMag_i',\n",
       "       'modelMag_u modelMag_z', 'modelMag_g^2', 'modelMag_g modelMag_r',\n",
       "       'modelMag_g modelMag_i', 'modelMag_g modelMag_z', 'modelMag_r^2',\n",
       "       'modelMag_r modelMag_i', 'modelMag_r modelMag_z', 'modelMag_i^2',\n",
       "       'modelMag_i modelMag_z', 'modelMag_z^2'], dtype=object)"
      ]
     },
     "execution_count": 18,
     "metadata": {},
     "output_type": "execute_result"
    }
   ],
   "source": [
    "feature_names"
   ]
  },
  {
   "cell_type": "code",
   "execution_count": 21,
   "id": "9ae08d02",
   "metadata": {},
   "outputs": [
    {
     "name": "stdout",
     "output_type": "stream",
     "text": [
      "231\n"
     ]
    }
   ],
   "source": [
    "print(feature_names.size)"
   ]
  },
  {
   "cell_type": "code",
   "execution_count": 25,
   "id": "1dbcb154",
   "metadata": {},
   "outputs": [
    {
     "name": "stdout",
     "output_type": "stream",
     "text": [
      "(210000, 231)\n"
     ]
    }
   ],
   "source": [
    "print(X.shape)"
   ]
  },
  {
   "cell_type": "code",
   "execution_count": 26,
   "id": "642d81d6",
   "metadata": {},
   "outputs": [],
   "source": [
    "df_poly = pd.DataFrame(data = X, columns = feature_names, index = df.index)\n",
    "# df의 인덱스를 index로 사용. 즉, id = 0,1,2,3..\n",
    "# 즉, 우리는 df_poly를 통해, polynimial 된 data frame을 만들게 됨\n",
    "\n",
    "df_poly[target_col] = df[target_col] # target_col 만들어서 복구해주기\n",
    "\n",
    "df_poly.head()\n",
    "df_poly.to_csv(feature_file) # polynomial 된 feature file. 파일 확인할 것"
   ]
  },
  {
   "cell_type": "code",
   "execution_count": 27,
   "id": "1bee3766",
   "metadata": {},
   "outputs": [
    {
     "name": "stdout",
     "output_type": "stream",
     "text": [
      "(199991,) (199991, 20) (10009, 20)\n"
     ]
    }
   ],
   "source": [
    "y = df[target_col].values[:199991] # ndarray로 바꿔주기\n",
    "df.drop(target_col, inplace = True, axis = 1)\n",
    "trn = df.iloc[:199991].values # ndarray로 바꿔주기\n",
    "tst = df.iloc[199991:].values\n",
    "feature_name = df.columns.tolist()\n",
    "#참고로 df.columns 는 리스트 아님. 리스트처럼 보이지만.\n",
    "# df.columns.tolist() 가 진짜 리스트\n",
    "\n",
    "print(y.shape, trn.shape, tst.shape)"
   ]
  },
  {
   "cell_type": "markdown",
   "id": "e2837770",
   "metadata": {},
   "source": [
    "# Startified K-Fold Cross Validation"
   ]
  },
  {
   "cell_type": "code",
   "execution_count": 28,
   "id": "f9f60a41",
   "metadata": {},
   "outputs": [],
   "source": [
    "cv = StratifiedKFold(n_splits=n_fold, shuffle=True, random_state=seed)\n",
    "\n",
    "# cv 객체 만들어주기. cv를 StartifiedKFold 스타일로 하겠다는 것."
   ]
  },
  {
   "cell_type": "code",
   "execution_count": 29,
   "id": "08b58710",
   "metadata": {},
   "outputs": [
    {
     "name": "stdout",
     "output_type": "stream",
     "text": [
      "training model for CV #1\n",
      "training model for CV #2\n",
      "training model for CV #3\n",
      "training model for CV #4\n",
      "training model for CV #5\n"
     ]
    }
   ],
   "source": [
    "p_val = np.zeros((trn.shape[0], n_class)) #cv셋 예측값 저장용\n",
    "p_tst = np.zeros((tst.shape[0], n_class)) #tst셋 예측값 저장용\n",
    "\n",
    "for i, (i_trn, i_val) in enumerate(cv.split(trn, y), 1):\n",
    "  # trn, y를 cv객체로 나누면 -> startified Kfold로 총 5번\n",
    "  # i_trn, i_val이 등장함.\n",
    "  print(f'training model for CV #{i}')\n",
    "  clf = LogisticRegression(multi_class = 'multinomial')\n",
    "  clf.fit(trn[i_trn], y[i_trn])\n",
    "  # 매 학습마다 클래시피케이션 객체를 새로 만들어서, 학습.\n",
    "  # 독립 학습임.\n",
    "  p_val[i_val, :] = clf.predict_proba(trn[i_val])\n",
    "  # i_val은 검증 샘플 인덱스들임 [0,4,7,9 ...] 이런 식으로.\n",
    "  # 개별적으로 로우들을 뽑아냄\n",
    "  # 이게 Out of Fold(OOF) 예측값 저장용임. \n",
    "  p_tst += clf.predict_proba(tst) / n_fold\n",
    "  # 다른 데이터셋으로 학습한 모델을 동일한 테스트셋으로 평가한 후,\n",
    "  # 평균을 내어, 모델의 예측결과를 평균 soft voting 하는 방식임 (앙상블)\n",
    "  # K-Fold Soft Voting 앙상블"
   ]
  },
  {
   "cell_type": "code",
   "execution_count": 31,
   "id": "ae65ea9f",
   "metadata": {},
   "outputs": [
    {
     "name": "stdout",
     "output_type": "stream",
     "text": [
      "0.0000%\n"
     ]
    }
   ],
   "source": [
    "print(f'{accuracy_score(y, np.argmax(p_val, axis = 1))*100:.4f}%')"
   ]
  },
  {
   "cell_type": "markdown",
   "id": "19a95fb1",
   "metadata": {},
   "source": [
    "p_val은 정수형 클래스 인덱스를 예측하고 있고, y는 문자열(class label)이다.\n",
    "즉, np.argmax(p_val, axis=1)과 y의 값 타입이 서로 다르기 때문에 전혀 일치하지 않습니다.\n",
    "\n",
    "Q. 이 문장이 잘 이해가 안 가. p_val은 전체 학습셋에 대한, 각 원소에 확률값이 들어있는거잖아. y는 문자열이고. 아~ 정수랑, 문자열이라 조합이안된다는건가. np.argmax(p_val, axis = 1)은 그러면, p_val 기준, 로우 방향으로 가장 높은 값을 반환하는거고. 그 값들이랑 문자열이랑 비교하려니까 안되는거고. 그래서 y를 정수형으로 라벨링 0,1,2...18로 해서, 다시 비교하려는거고."
   ]
  },
  {
   "cell_type": "code",
   "execution_count": 40,
   "id": "631ccca1",
   "metadata": {},
   "outputs": [
    {
     "name": "stdout",
     "output_type": "stream",
     "text": [
      "48.3537%\n"
     ]
    }
   ],
   "source": [
    "from sklearn.preprocessing import LabelEncoder\n",
    "\n",
    "le = LabelEncoder()\n",
    "y_encoded = le.fit_transform(y) # 'Galaxy' -> 0, 'QSQ' -> 1...\n",
    "\n",
    "print(f'{accuracy_score(y_encoded, np.argmax(p_val, axis=1))*100:.4f}%') "
   ]
  },
  {
   "cell_type": "markdown",
   "id": "874601b9",
   "metadata": {},
   "source": [
    "확실히 로지스틱 리그레션은 선형이라 그런지, 예측이 매우 안 좋음"
   ]
  },
  {
   "cell_type": "code",
   "execution_count": 42,
   "id": "672a7e57",
   "metadata": {},
   "outputs": [
    {
     "name": "stdout",
     "output_type": "stream",
     "text": [
      "(199991, 19) (10009, 19)\n"
     ]
    }
   ],
   "source": [
    "print(p_val.shape, p_tst.shape)\n",
    "\n",
    "#p_val 전체 trn셋으로 학습하고 cv한 것.\n",
    "#p_tst 테스트셋 예측값"
   ]
  },
  {
   "cell_type": "code",
   "execution_count": 43,
   "id": "b0071925",
   "metadata": {},
   "outputs": [],
   "source": [
    "np.savetxt(p_val_file, p_val, fmt='%.6f', delimiter=',')\n",
    "np.savetxt(p_tst_file, p_tst, fmt='%.6f', delimiter=',')"
   ]
  },
  {
   "cell_type": "code",
   "execution_count": 1,
   "id": "649e0bb2",
   "metadata": {},
   "outputs": [],
   "source": [
    "# feature importance visualization\n",
    "# new markdown commit\n"
   ]
  },
  {
   "cell_type": "code",
   "execution_count": null,
   "id": "b26348b0",
   "metadata": {},
   "outputs": [],
   "source": []
  }
 ],
 "metadata": {
  "kernelspec": {
   "display_name": "venv",
   "language": "python",
   "name": "python3"
  },
  "language_info": {
   "codemirror_mode": {
    "name": "ipython",
    "version": 3
   },
   "file_extension": ".py",
   "mimetype": "text/x-python",
   "name": "python",
   "nbconvert_exporter": "python",
   "pygments_lexer": "ipython3",
   "version": "3.11.4"
  }
 },
 "nbformat": 4,
 "nbformat_minor": 5
}
