{
 "cells": [
  {
   "cell_type": "code",
   "execution_count": null,
   "id": "ea9e89bd",
   "metadata": {},
   "outputs": [],
   "source": [
    "ㅇㅇ"
   ]
  },
  {
   "cell_type": "code",
   "execution_count": null,
   "id": "d074ef5b",
   "metadata": {},
   "outputs": [],
   "source": []
  },
  {
   "cell_type": "code",
   "execution_count": null,
   "id": "11f82b84",
   "metadata": {},
   "outputs": [],
   "source": []
  },
  {
   "cell_type": "code",
   "execution_count": null,
   "id": "bba69802",
   "metadata": {},
   "outputs": [],
   "source": []
  },
  {
   "cell_type": "code",
   "execution_count": null,
   "id": "3176dad9",
   "metadata": {},
   "outputs": [],
   "source": []
  }
 ],
 "metadata": {
  "language_info": {
   "name": "python"
  }
 },
 "nbformat": 4,
 "nbformat_minor": 5
}
