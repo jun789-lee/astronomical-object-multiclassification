{
 "cells": [
  {
   "cell_type": "markdown",
   "id": "81e69d4d",
   "metadata": {},
   "source": [
    "# 3. Pandas\n",
    "\n",
    "## 3.1 Pandas 설치\n",
    "\n",
    "## 3.2 Pandas 객체\n",
    "- Pandas에서는 데이터프레임과 시리즈라는 객체를 지원합니다. 데이터프레임은 R에서 넘어온 개념이며 테이블 형식으로 된 데이터를 뜻합니다. 시리즈는 1차원적인 벡터 형식으로 된 데이터를 뜻합니다.\n",
    "\n",
    "Pandas 객체는 여러 개의 **member fuction**을 보유하고 있습니다. 예를 들어 df라는 데이터프레임이 존재할 때, df.head() 함수를 사용하면, 데이터프레임의 상위 5개의 행을 출력해줍니다. 주요 member function들에 대한 설명은 아래와 같으며, 실습 단계에서 자세히 다뤄보겠습니다.\n",
    "\n",
    "- head(), tail()\n",
    "- []. iloc[], loc[]\n",
    "- apply()\n",
    "- groupby() : 특정 열로 그룹핑을 할 때 사용\n",
    "- sort_values(), sort_index 특정 열 또는 인덱스의 값으로 정렬\n",
    "- drop(), drop_duplicates()\n",
    "- shape\n",
    "- count() 특정 행/열에 몇 개의 값이 존재하는지 계산\n",
    "- sum()\n",
    "- cumsum()\n",
    "- mean()\n",
    "- median ()\n",
    "- min(), max(), std(), var()\n",
    "- sample()\n",
    "- unique(), nunique()\n",
    "- value_counts() 각 고유값별 개수를 반환 (중요)\n",
    "- set_index()\n",
    "- reset_index()\n",
    " "
   ]
  }
 ],
 "metadata": {
  "kernelspec": {
   "display_name": "venv",
   "language": "python",
   "name": "python3"
  },
  "language_info": {
   "codemirror_mode": {
    "name": "ipython",
    "version": 3
   },
   "file_extension": ".py",
   "mimetype": "text/x-python",
   "name": "python",
   "nbconvert_exporter": "python",
   "pygments_lexer": "ipython3",
   "version": "3.11.4"
  }
 },
 "nbformat": 4,
 "nbformat_minor": 5
}
